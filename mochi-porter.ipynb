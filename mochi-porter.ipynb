{
  "nbformat": 4,
  "nbformat_minor": 0,
  "metadata": {
    "colab": {
      "name": "porter",
      "provenance": []
    },
    "kernelspec": {
      "name": "python3",
      "display_name": "Python 3"
    }
  },
  "cells": [
    {
      "cell_type": "code",
      "metadata": {
        "id": "NyRZpZCy8xe7",
        "colab_type": "code",
        "colab": {}
      },
      "source": [
        "#@markdown ### ROM direct download link\n",
        "rom_link = '' #@param {type:\"string\"}\n",
        "\n",
        "#@markdown ### Device name (Type o for oxygen, m for mido, v for vince)\n",
        "device = '' #@param {type:\"string\"}\n",
        "\n",
        "#@markdown ### Kernel version (Type 3 for 3.18, 4 for 4.9)\n",
        "kern = '' #@param {type:\"string\"}\n",
        "\n",
        "![ -d porter ] && rm -rf porter && echo \"old dir removed\"\n",
        "\n",
        "![ -e rom_PORT.zip ] && rm rom_PORT.zip && echo \"old file removed\"\n",
        "\n",
        "!git clone --depth=1 https://github.com/Jebaitedneko/mochi-porter porter\n",
        "\n",
        "!cd porter && wget --content-disposition --trust-server-names $rom_link\n",
        "\n",
        "!cd porter && ./port.sh $device ` find -type f ! -path \"./bin/*\" ! -path \"./aio_patchers/*\" -iname \"*.zip\" | cut -c3- ` $kern"
      ],
      "execution_count": null,
      "outputs": []
    },
    {
      "cell_type": "code",
      "metadata": {
        "id": "JUSyabgWAYj4",
        "colab_type": "code",
        "colab": {}
      },
      "source": [
        "from google.colab import drive\n",
        "drive.mount('/content/drive')"
      ],
      "execution_count": null,
      "outputs": []
    },
    {
      "cell_type": "code",
      "metadata": {
        "id": "yUUkVGuiBYvx",
        "colab_type": "code",
        "colab": {}
      },
      "source": [
        "!cd porter && mv `find -type f ! -path \"./bin/*\" ! -path \"./aio_patchers/*\" -iname \"*.zip\" | cut -c3-` ../drive/My\\ Drive/"
      ],
      "execution_count": 17,
      "outputs": []
    },
    {
      "cell_type": "code",
      "metadata": {
        "id": "W-KOW7aACbjz",
        "colab_type": "code",
        "colab": {}
      },
      "source": [
        "from google.colab import drive\n",
        "drive.flush_and_unmount()"
      ],
      "execution_count": 21,
      "outputs": []
    }
  ]
}
